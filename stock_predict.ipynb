{
  "nbformat": 4,
  "nbformat_minor": 0,
  "metadata": {
    "colab": {
      "name": "stock_predict.ipynb",
      "provenance": [],
      "authorship_tag": "ABX9TyNt67r+KSGksockciKgPoVE",
      "include_colab_link": true
    },
    "kernelspec": {
      "name": "python3",
      "display_name": "Python 3"
    }
  },
  "cells": [
    {
      "cell_type": "markdown",
      "metadata": {
        "id": "view-in-github",
        "colab_type": "text"
      },
      "source": [
        "<a href=\"https://colab.research.google.com/github/kilkenny1/StockWiz/blob/master/stock_predict.ipynb\" target=\"_parent\"><img src=\"https://colab.research.google.com/assets/colab-badge.svg\" alt=\"Open In Colab\"/></a>"
      ]
    },
    {
      "cell_type": "code",
      "metadata": {
        "id": "B5BMcyDkpreY"
      },
      "source": [
        "import math\n",
        "import pandas_datareader as web\n",
        "import numpy as np\n",
        "import pandas as pd\n",
        "from sklearn.preprocessing import MinMaxScaler\n",
        "import datetime\n",
        "from pandas.tseries.offsets import BDay\n",
        "from keras.models import Sequential\n",
        "from keras.layers import Dense, LSTM\n",
        "import matplotlib.pyplot as plt\n",
        "plt.style.use('fivethirtyeight')\n"
      ],
      "execution_count": null,
      "outputs": []
    },
    {
      "cell_type": "markdown",
      "metadata": {
        "id": "GmpdtmKHndKT"
      },
      "source": [
        "The model is to predict the T+1 close price using the last 60 days close price as input"
      ]
    },
    {
      "cell_type": "code",
      "metadata": {
        "id": "0JJhbepfmvQl"
      },
      "source": [
        "#Param\n",
        "stock_code='QQQ'\n",
        "today = datetime.date.today()\n",
        "training_data_start='2017-01-01'\n",
        "training_data_end=(today-BDay(2)).strftime('%Y-%m-%d')\n",
        "yesterday=(today-BDay(1)).strftime('%Y-%m-%d')\n",
        "training_data_ratio=0.8 #Ratio of data to be trained by ML model"
      ],
      "execution_count": null,
      "outputs": []
    },
    {
      "cell_type": "markdown",
      "metadata": {
        "id": "ggBNmVthqUB6"
      },
      "source": [
        ""
      ]
    },
    {
      "cell_type": "code",
      "metadata": {
        "id": "dd0h2Qt4qUUV",
        "colab": {
          "base_uri": "https://localhost:8080/"
        },
        "outputId": "c438c888-bf13-4584-97b8-207b58dfe998"
      },
      "source": [
        "df=web.DataReader(stock_code, data_source='yahoo', start= training_data_start, end= training_data_end)\n",
        "df.index"
      ],
      "execution_count": null,
      "outputs": [
        {
          "output_type": "execute_result",
          "data": {
            "text/plain": [
              "DatetimeIndex(['2017-01-03', '2017-01-04', '2017-01-05', '2017-01-06',\n",
              "               '2017-01-09', '2017-01-10', '2017-01-11', '2017-01-12',\n",
              "               '2017-01-13', '2017-01-17',\n",
              "               ...\n",
              "               '2021-04-01', '2021-04-05', '2021-04-06', '2021-04-07',\n",
              "               '2021-04-08', '2021-04-09', '2021-04-12', '2021-04-13',\n",
              "               '2021-04-14', '2021-04-15'],\n",
              "              dtype='datetime64[ns]', name='Date', length=1078, freq=None)"
            ]
          },
          "metadata": {
            "tags": []
          },
          "execution_count": 3
        }
      ]
    },
    {
      "cell_type": "code",
      "metadata": {
        "id": "2C-2KcJArrSg"
      },
      "source": [
        "data=df.filter(['Close'])\n",
        "#Covert the dataframe to numpy array\n",
        "dataset=data.values\n",
        "#get the number of rows (80% of all data) to train the model\n",
        "training_data_len = math.ceil(len(dataset) * training_data_ratio)"
      ],
      "execution_count": null,
      "outputs": []
    },
    {
      "cell_type": "code",
      "metadata": {
        "colab": {
          "base_uri": "https://localhost:8080/"
        },
        "id": "jqQJEqBWsPG8",
        "outputId": "28e77935-fd44-4172-d4db-64204bb0c627"
      },
      "source": [
        "#Scale the data\n",
        "scaler = MinMaxScaler(feature_range=(0,1))\n",
        "scaled_data = scaler.fit_transform(dataset)\n",
        "\n",
        "scaled_data"
      ],
      "execution_count": null,
      "outputs": [
        {
          "output_type": "execute_result",
          "data": {
            "text/plain": [
              "array([[0.        ],\n",
              "       [0.00292701],\n",
              "       [0.00598911],\n",
              "       ...,\n",
              "       [0.99545198],\n",
              "       [0.97703438],\n",
              "       [1.        ]])"
            ]
          },
          "metadata": {
            "tags": []
          },
          "execution_count": 5
        }
      ]
    },
    {
      "cell_type": "code",
      "metadata": {
        "id": "0TqEztN8sqsq"
      },
      "source": [
        "#Create the training dataset\n",
        "#Create the scaled training data set\n",
        "train_data = scaled_data[0:training_data_len,:]\n",
        "#Split the data into x_train and Y_train data sets\n",
        "x_train=[]\n",
        "y_train=[]\n",
        "\n",
        "for i in range(60,len(train_data)):\n",
        "  x_train.append(train_data[i-60:i, 0])\n",
        "  y_train.append(train_data[i, 0])"
      ],
      "execution_count": null,
      "outputs": []
    },
    {
      "cell_type": "code",
      "metadata": {
        "id": "SW_4KVV-uFjs"
      },
      "source": [
        "#Convert the x_train and y_train to numpy arrays\n",
        "x_train, y_train= np.array(x_train), np.array(y_train)"
      ],
      "execution_count": null,
      "outputs": []
    },
    {
      "cell_type": "code",
      "metadata": {
        "colab": {
          "base_uri": "https://localhost:8080/"
        },
        "id": "lk37ilN8uPod",
        "outputId": "1721ee23-de26-4936-e57a-cfdfaa1933ea"
      },
      "source": [
        "#Reshape the data\n",
        "x_train=np.reshape(x_train,(x_train.shape[0],x_train.shape[1],1))\n",
        "x_train.shape"
      ],
      "execution_count": null,
      "outputs": [
        {
          "output_type": "execute_result",
          "data": {
            "text/plain": [
              "(803, 60, 1)"
            ]
          },
          "metadata": {
            "tags": []
          },
          "execution_count": 8
        }
      ]
    },
    {
      "cell_type": "code",
      "metadata": {
        "id": "SCTzZqltuqWG"
      },
      "source": [
        "#Build LSTM Model\n",
        "model= Sequential()\n",
        "model.add(LSTM(50,return_sequences=True, input_shape=(x_train.shape[1],1)))\n",
        "model.add(LSTM(50,return_sequences= False))\n",
        "model.add(Dense(25))\n",
        "model.add(Dense(1))"
      ],
      "execution_count": null,
      "outputs": []
    },
    {
      "cell_type": "code",
      "metadata": {
        "id": "KkVhaK-_vN6n"
      },
      "source": [
        "model.compile(optimizer='adam', loss='mean_squared_error')"
      ],
      "execution_count": null,
      "outputs": []
    },
    {
      "cell_type": "code",
      "metadata": {
        "colab": {
          "base_uri": "https://localhost:8080/"
        },
        "id": "ZuovM3eSvXxi",
        "outputId": "3fb84ed8-0e73-421a-f06b-4fc08c8a7118"
      },
      "source": [
        "#Train the model\n",
        "model.fit(x_train, y_train, batch_size=1, epochs=1)"
      ],
      "execution_count": null,
      "outputs": [
        {
          "output_type": "stream",
          "text": [
            "803/803 [==============================] - 19s 20ms/step - loss: 0.0029\n"
          ],
          "name": "stdout"
        },
        {
          "output_type": "execute_result",
          "data": {
            "text/plain": [
              "<tensorflow.python.keras.callbacks.History at 0x7f3375e287d0>"
            ]
          },
          "metadata": {
            "tags": []
          },
          "execution_count": 11
        }
      ]
    },
    {
      "cell_type": "code",
      "metadata": {
        "id": "AnCQ9UKuv3V_"
      },
      "source": [
        "#Create the new testing set\n",
        "#Create a new array containing scaled value from \n",
        "test_data= scaled_data[training_data_len-60: , :]\n",
        "#Create the data sets x_test and y_test\n",
        "x_test=[]\n",
        "y_test= dataset[training_data_len:, :]\n",
        "for i in range (60, len(test_data)):\n",
        "  x_test.append(test_data[i-60:i, 0])\n"
      ],
      "execution_count": null,
      "outputs": []
    },
    {
      "cell_type": "code",
      "metadata": {
        "id": "2g8fNGgXwpnV"
      },
      "source": [
        "#Conver the data to a numpy array\n",
        "x_test = np.array(x_test)"
      ],
      "execution_count": null,
      "outputs": []
    },
    {
      "cell_type": "code",
      "metadata": {
        "id": "m1Uo9_OvwxG6"
      },
      "source": [
        "#Reshape the data\n",
        "x_test=np.reshape(x_test,(x_test.shape[0],x_test.shape[1],1))"
      ],
      "execution_count": null,
      "outputs": []
    },
    {
      "cell_type": "code",
      "metadata": {
        "id": "hF7fsUvtxILL"
      },
      "source": [
        "#Get the models predicted price value\n",
        "predictions = model.predict(x_test)\n",
        "predictions = scaler.inverse_transform(predictions)"
      ],
      "execution_count": null,
      "outputs": []
    },
    {
      "cell_type": "code",
      "metadata": {
        "colab": {
          "base_uri": "https://localhost:8080/"
        },
        "id": "aBznaunExkDz",
        "outputId": "2a7e2d37-775c-4f84-e3a4-8eddc520c42c"
      },
      "source": [
        "#Get the root mean squared error \n",
        "\n",
        "rmse=np.sqrt(np.mean(((predictions- y_test)**2)))\n",
        "rmse"
      ],
      "execution_count": null,
      "outputs": [
        {
          "output_type": "execute_result",
          "data": {
            "text/plain": [
              "6.774757335634626"
            ]
          },
          "metadata": {
            "tags": []
          },
          "execution_count": 17
        }
      ]
    },
    {
      "cell_type": "code",
      "metadata": {
        "colab": {
          "base_uri": "https://localhost:8080/",
          "height": 637
        },
        "id": "o4hzeOgfyP8c",
        "outputId": "ca5434e9-53fb-4f11-e843-00a49b9f187c"
      },
      "source": [
        "#Plot the training result\n",
        "train = data[:training_data_len]\n",
        "valid = data[training_data_len:]\n",
        "valid['Predictions']= predictions\n",
        "#Visualize the training result\n",
        "plt.figure(figsize=(16,8))\n",
        "plt.title('Model for {}'.format(stock_code))\n",
        "plt.xlabel('Date', fontsize=18)\n",
        "plt.ylabel('Close Price US$', fontsize=18)\n",
        "plt.plot(train['Close'],linewidth=2)\n",
        "plt.plot(valid[['Close','Predictions']], linewidth=2)\n",
        "plt.legend(['Close','Val','Predictions'], loc='lower right')\n",
        "plt.show"
      ],
      "execution_count": null,
      "outputs": [
        {
          "output_type": "stream",
          "text": [
            "/usr/local/lib/python3.7/dist-packages/ipykernel_launcher.py:4: SettingWithCopyWarning: \n",
            "A value is trying to be set on a copy of a slice from a DataFrame.\n",
            "Try using .loc[row_indexer,col_indexer] = value instead\n",
            "\n",
            "See the caveats in the documentation: https://pandas.pydata.org/pandas-docs/stable/user_guide/indexing.html#returning-a-view-versus-a-copy\n",
            "  after removing the cwd from sys.path.\n"
          ],
          "name": "stderr"
        },
        {
          "output_type": "execute_result",
          "data": {
            "text/plain": [
              "<function matplotlib.pyplot.show>"
            ]
          },
          "metadata": {
            "tags": []
          },
          "execution_count": 18
        },
        {
          "output_type": "display_data",
          "data": {
            "image/png": "[encoded data removed]",
            "text/plain": [
              "<Figure size 1152x576 with 1 Axes>"
            ]
          },
          "metadata": {
            "tags": [],
            "needs_background": "light"
          }
        }
      ]
    }
  ]
}